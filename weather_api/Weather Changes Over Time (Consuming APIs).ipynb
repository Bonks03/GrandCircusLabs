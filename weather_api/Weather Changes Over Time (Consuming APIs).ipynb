{
 "cells": [
  {
   "cell_type": "markdown",
   "id": "ec7397bf",
   "metadata": {},
   "source": [
    "# Weather Changes Over Time (Consuming APIs)\n",
    "\n",
    "## Task\n",
    "Utilize the following two APIs to evaluate the changes in temperature for your birthday and city you were born in:\n",
    "* [geocode.xyz](geocode.xyz)\n",
    "* [open-meteo.com](open-meteo.com)\n"
   ]
  },
  {
   "cell_type": "code",
   "execution_count": 1,
   "id": "b25836d9",
   "metadata": {
    "ExecuteTime": {
     "end_time": "2023-02-28T00:37:36.649033Z",
     "start_time": "2023-02-28T00:37:35.420371Z"
    }
   },
   "outputs": [],
   "source": [
    "from datetime import date, datetime, timedelta\n",
    "\n",
    "import requests\n",
    "import pandas as pd\n",
    "import numpy as np\n",
    "\n",
    "import seaborn as sns\n",
    "from matplotlib import pyplot as plt\n",
    "from matplotlib.ticker import FormatStrFormatter\n",
    "\n",
    "%matplotlib inline\n",
    "\n",
    "sns.set_palette('muted')\n",
    "sns.set_style('white')"
   ]
  },
  {
   "cell_type": "markdown",
   "id": "cd30d0c3",
   "metadata": {
    "ExecuteTime": {
     "end_time": "2023-02-27T20:30:03.112450Z",
     "start_time": "2023-02-27T20:30:03.106139Z"
    }
   },
   "source": [
    "## Question 1: Geocoding A Location\n",
    "Write a function that utilizes the [geocode.xyz](geocode.xyz) API to take in a city and country and return the latitude and longitude of that location\n",
    "\n",
    "```\n",
    "def geocode_location(city, country):\n",
    "    # your code\n",
    "    return latitude, longitude\n",
    "```\n",
    "\n",
    "For example:\n",
    "```\n",
    "geocode_location(\"london\", \"united kingdom\")\n",
    "```\n",
    "should return\n",
    "```\n",
    "(-0.11534, 51.49742)\n",
    "```"
   ]
  },
  {
   "cell_type": "code",
   "execution_count": 2,
   "metadata": {},
   "outputs": [],
   "source": [
    "def geocode_location(city, country):\n",
    "    url = f\"https://geocode.xyz/{city},{country}?geoit=json\"\n",
    "    r = requests.get(url)\n",
    "    response = r.json()\n",
    "    lat = response['latt']\n",
    "    lon = response['longt']\n",
    "    return lat, lon\n"
   ]
  },
  {
   "attachments": {},
   "cell_type": "markdown",
   "id": "2f15ce09",
   "metadata": {},
   "source": [
    "## Question 2: Determining Weather Using Date and Location\n",
    "Write a function that utilizes the [open-meteo.com](https://open-meteo.com/) API to take in a date and location and return the 15-day average high and low for the following measurements from the years 1960 to 2022:\n",
    "* `precipitation_sum` (mm): Sum of daily precipitation (including rain, showers and snowfall)\n",
    "* `temperature_2m_max` (°F): Maximum daily air temperature at 2 meters above ground\n",
    "* `temperature_2m_min` (°F): Minimum daily air temperature at 2 meters above ground\n",
    "* `apparent_temperature_max` (°F): Maximum daily apparent temperature\n",
    "* `apparent_temperature_min` (°F): Min daily apparent temperature\n",
    "\n",
    "The function should return the above measurements in a dictionary object with the keys being `\"precipitation_sum\"`, `\"temperature_2m_max\"`, etc. and the values being the 15-day average of the measurements. The 15-day average should be the 7 days preceeding the input date, the input date, and the 7 days following the input date. This will give the results more statistical validity by increasing the number of samples for each measurement.\n",
    "\n",
    "The `get_historical_weather_measurements()` function will include a few different sub-tasks:\n",
    "\n",
    "### Create API Request in Postman/Insomnia\n",
    "Use the following [API Documentation](https://open-meteo.com/en/docs/historical-weather-api#api-documentation) page to create an API request that responds with a JSON object of the measurements listed above. Make sure the response object meets the following:\n",
    "* Temperatue measurements are in Fahrenheit\n",
    "* Precipitation measurements are in inches\n",
    "* Measurements are daily aggregations\n",
    "* 15 day range of weather\n",
    "* JSON format\n",
    "\n",
    "\n",
    "Before writing any code, use Postman/Insomnia to create the API request and take a screenshot of the request/response.\n",
    "\n",
    "### Create API Request Function\n",
    "Convert the request above into a function. The function should take in `latitude`, `longitude`, and `date` as its arguments and return the API response, if successful.\n",
    "\n",
    "```\n",
    "def get_api_response(latitude, longitude, date):\n",
    "    # your code\n",
    "\n",
    "```\n",
    "\n",
    "Use the helper function below for creating a 15-day date range "
   ]
  },
  {
   "cell_type": "code",
   "execution_count": 3,
   "id": "847c1b60",
   "metadata": {
    "ExecuteTime": {
     "end_time": "2023-02-28T00:37:52.984619Z",
     "start_time": "2023-02-28T00:37:52.975626Z"
    }
   },
   "outputs": [],
   "source": [
    "def get_date_range(birthday):    \n",
    "    return {'start_date': birthday - timedelta(days=7),\n",
    "            'end_date': birthday + timedelta(days=7)\n",
    "           }"
   ]
  },
  {
   "cell_type": "code",
   "execution_count": 4,
   "id": "fec1e201",
   "metadata": {
    "ExecuteTime": {
     "end_time": "2023-02-28T00:37:55.391271Z",
     "start_time": "2023-02-28T00:37:55.379302Z"
    }
   },
   "outputs": [],
   "source": [
    "def get_api_response(latitude, longitude, date):\n",
    "    date_range = get_date_range(date)\n",
    "    start_date = date_range['start_date'].strftime(\"%Y-%m-%d\")\n",
    "    end_date = date_range['end_date'].strftime(\"%Y-%m-%d\")\n",
    "    url = f\"https://archive-api.open-meteo.com/v1/archive?latitude={latitude}&longitude={longitude}&start_date={start_date}&end_date={end_date}&daily=temperature_2m_max,temperature_2m_min,apparent_temperature_max,apparent_temperature_min,precipitation_sum&temperature_unit=fahrenheit&timezone=auto\"\n",
    "    response = requests.get(url)\n",
    "    return response.json()"
   ]
  },
  {
   "cell_type": "markdown",
   "id": "e1a83014",
   "metadata": {},
   "source": [
    "### Iterating Over Each Year\n",
    "Write a function that iterates through each year between 1960 and 2022 and returns the corresponding JSON response objects containing weather data for each year in a python list.\n",
    "\n",
    "```\n",
    "def get_all_response_objects(start_year, end_year):\n",
    "    # your code\n",
    "```\n"
   ]
  },
  {
   "cell_type": "code",
   "execution_count": 5,
   "id": "0f7dd9ff",
   "metadata": {
    "ExecuteTime": {
     "end_time": "2023-02-28T00:37:55.921045Z",
     "start_time": "2023-02-28T00:37:55.917896Z"
    }
   },
   "outputs": [],
   "source": [
    "def get_all_response_objects(latitude, longitude, date):\n",
    "    responses = []\n",
    "    for year in range(1960, 2023):\n",
    "        date_itr = date.replace(year=year)\n",
    "        responses.append(get_api_response(latitude, longitude, date_itr))\n",
    "    return responses"
   ]
  },
  {
   "cell_type": "markdown",
   "id": "dd77748a",
   "metadata": {},
   "source": [
    "### Parse JSON Responses & Aggregate Data\n",
    "Write a function that takes the list of JSON response objects from the previous function in as a parameter and returns a pandas DataFrame containing the original input date, the measurements, and the average across the 15 days.\n",
    "```\n",
    "def parse_json_response(responses):\n",
    "    # your code\n",
    "```\n"
   ]
  },
  {
   "cell_type": "code",
   "execution_count": 6,
   "metadata": {},
   "outputs": [],
   "source": [
    "def parse_json_response(responses):\n",
    "    year_data = []\n",
    "    \n",
    "    for response in responses:\n",
    "        data = response\n",
    "        \n",
    "        max_temp = data['daily']['temperature_2m_max']\n",
    "        min_temp = data['daily']['temperature_2m_min']\n",
    "        max_apparent_temp = data['daily']['apparent_temperature_max']\n",
    "        min_apparent_temp = data['daily']['apparent_temperature_min']\n",
    "        precipitation = data['daily']['precipitation_sum']\n",
    "\n",
    "        annual_avg_temp = sum(max_temp) / len(max_temp)\n",
    "        annual_avg_precipitation = sum(precipitation) / len(precipitation)\n",
    "\n",
    "        dates = data['daily']['time']\n",
    "\n",
    "        for i in range(len(dates)):\n",
    "            date = dates[i]\n",
    "            max_temp_value = max_temp[i]\n",
    "            min_temp_value = min_temp[i]\n",
    "            max_apparent_temp_value = max_apparent_temp[i]\n",
    "            min_apparent_temp_value = min_apparent_temp[i]\n",
    "            daily_precipitation = precipitation[i]\n",
    "\n",
    "            year_data.append([date, max_temp_value, min_temp_value, max_apparent_temp_value, min_apparent_temp_value, daily_precipitation, annual_avg_temp, annual_avg_precipitation])\n",
    "\n",
    "    df = pd.DataFrame(year_data, columns=['date', 'max_temp (°F)', 'min_temp',\n",
    "                                          'apparent_max_temp', 'apparent_min_temp',\n",
    "                                          'daily_precipitation (mm)',\n",
    "                                          'avg_annual_temp (°F)', 'avg_annual_precipitation (mm)'])\n",
    "\n",
    "    return df\n"
   ]
  },
  {
   "cell_type": "markdown",
   "id": "e96e3981",
   "metadata": {},
   "source": [
    "### Combining the Functions\n",
    "Write a function that combines all the above functions into one, where the user inputs their birthday and location and the function returns the pandas DataFrame containing the summary of measurements.\n",
    "\n",
    "```\n",
    "def get_data():\n",
    "    birthday = get_user_birthday()\n",
    "    location = get_user_city_of_birth()\n",
    "    # your code here\n",
    "```\n",
    "\n",
    "The helper functions below can be used for birthday and location input information:"
   ]
  },
  {
   "cell_type": "code",
   "execution_count": 7,
   "id": "554d19ad",
   "metadata": {
    "ExecuteTime": {
     "end_time": "2023-02-28T00:37:56.448620Z",
     "start_time": "2023-02-28T00:37:56.443554Z"
    }
   },
   "outputs": [],
   "source": [
    "# Helper function to get user birthday\n",
    "def get_user_birthday():\n",
    "    birthday = input('Enter your birthday (YYYY-MM-DD): ')\n",
    "    return datetime.strptime(birthday, '%Y-%m-%d').date()\n",
    "\n",
    "# Helper function to get user city of birth\n",
    "def get_user_city_of_birth():\n",
    "    city = input('Enter the city you were born in: ')\n",
    "    country = input('Enter the country you were born in: ')\n",
    "    return city, country"
   ]
  },
  {
   "cell_type": "code",
   "execution_count": 8,
   "id": "a7cd8c53",
   "metadata": {
    "ExecuteTime": {
     "end_time": "2023-02-28T00:37:56.588922Z",
     "start_time": "2023-02-28T00:37:56.585684Z"
    }
   },
   "outputs": [],
   "source": [
    "def get_data():\n",
    "    birthday = get_user_birthday()\n",
    "    lat, lon = geocode_location(*get_user_city_of_birth())\n",
    "    responses = get_all_response_objects(lat, lon, birthday)\n",
    "    return parse_json_response(responses)\n"
   ]
  },
  {
   "cell_type": "markdown",
   "id": "caebdcff",
   "metadata": {},
   "source": [
    "Run your function and set it equal to `df`:"
   ]
  },
  {
   "cell_type": "code",
   "execution_count": 9,
   "id": "e430b5df",
   "metadata": {
    "ExecuteTime": {
     "end_time": "2023-02-28T00:37:57.411326Z",
     "start_time": "2023-02-28T00:37:56.840425Z"
    },
    "scrolled": true
   },
   "outputs": [
    {
     "data": {
      "text/html": [
       "<div>\n",
       "<style scoped>\n",
       "    .dataframe tbody tr th:only-of-type {\n",
       "        vertical-align: middle;\n",
       "    }\n",
       "\n",
       "    .dataframe tbody tr th {\n",
       "        vertical-align: top;\n",
       "    }\n",
       "\n",
       "    .dataframe thead th {\n",
       "        text-align: right;\n",
       "    }\n",
       "</style>\n",
       "<table border=\"1\" class=\"dataframe\">\n",
       "  <thead>\n",
       "    <tr style=\"text-align: right;\">\n",
       "      <th></th>\n",
       "      <th>date</th>\n",
       "      <th>max_temp (°F)</th>\n",
       "      <th>min_temp</th>\n",
       "      <th>apparent_max_temp</th>\n",
       "      <th>apparent_min_temp</th>\n",
       "      <th>daily_precipitation (mm)</th>\n",
       "      <th>avg_annual_temp (°F)</th>\n",
       "      <th>avg_annual_precipitation (mm)</th>\n",
       "    </tr>\n",
       "  </thead>\n",
       "  <tbody>\n",
       "    <tr>\n",
       "      <th>0</th>\n",
       "      <td>1960-07-17</td>\n",
       "      <td>80.9</td>\n",
       "      <td>61.1</td>\n",
       "      <td>84.6</td>\n",
       "      <td>61.5</td>\n",
       "      <td>0.5</td>\n",
       "      <td>81.400000</td>\n",
       "      <td>2.713333</td>\n",
       "    </tr>\n",
       "    <tr>\n",
       "      <th>1</th>\n",
       "      <td>1960-07-18</td>\n",
       "      <td>81.4</td>\n",
       "      <td>65.4</td>\n",
       "      <td>83.6</td>\n",
       "      <td>68.8</td>\n",
       "      <td>6.1</td>\n",
       "      <td>81.400000</td>\n",
       "      <td>2.713333</td>\n",
       "    </tr>\n",
       "    <tr>\n",
       "      <th>2</th>\n",
       "      <td>1960-07-19</td>\n",
       "      <td>80.7</td>\n",
       "      <td>61.8</td>\n",
       "      <td>83.3</td>\n",
       "      <td>64.3</td>\n",
       "      <td>2.3</td>\n",
       "      <td>81.400000</td>\n",
       "      <td>2.713333</td>\n",
       "    </tr>\n",
       "    <tr>\n",
       "      <th>3</th>\n",
       "      <td>1960-07-20</td>\n",
       "      <td>74.1</td>\n",
       "      <td>60.1</td>\n",
       "      <td>74.5</td>\n",
       "      <td>58.0</td>\n",
       "      <td>0.0</td>\n",
       "      <td>81.400000</td>\n",
       "      <td>2.713333</td>\n",
       "    </tr>\n",
       "    <tr>\n",
       "      <th>4</th>\n",
       "      <td>1960-07-21</td>\n",
       "      <td>79.6</td>\n",
       "      <td>60.2</td>\n",
       "      <td>80.5</td>\n",
       "      <td>59.2</td>\n",
       "      <td>0.0</td>\n",
       "      <td>81.400000</td>\n",
       "      <td>2.713333</td>\n",
       "    </tr>\n",
       "    <tr>\n",
       "      <th>5</th>\n",
       "      <td>1960-07-22</td>\n",
       "      <td>87.2</td>\n",
       "      <td>67.6</td>\n",
       "      <td>90.0</td>\n",
       "      <td>67.0</td>\n",
       "      <td>1.7</td>\n",
       "      <td>81.400000</td>\n",
       "      <td>2.713333</td>\n",
       "    </tr>\n",
       "    <tr>\n",
       "      <th>6</th>\n",
       "      <td>1960-07-23</td>\n",
       "      <td>82.7</td>\n",
       "      <td>67.0</td>\n",
       "      <td>85.4</td>\n",
       "      <td>68.7</td>\n",
       "      <td>3.4</td>\n",
       "      <td>81.400000</td>\n",
       "      <td>2.713333</td>\n",
       "    </tr>\n",
       "    <tr>\n",
       "      <th>7</th>\n",
       "      <td>1960-07-24</td>\n",
       "      <td>80.3</td>\n",
       "      <td>61.5</td>\n",
       "      <td>83.2</td>\n",
       "      <td>60.5</td>\n",
       "      <td>0.0</td>\n",
       "      <td>81.400000</td>\n",
       "      <td>2.713333</td>\n",
       "    </tr>\n",
       "    <tr>\n",
       "      <th>8</th>\n",
       "      <td>1960-07-25</td>\n",
       "      <td>81.3</td>\n",
       "      <td>64.2</td>\n",
       "      <td>84.0</td>\n",
       "      <td>65.7</td>\n",
       "      <td>0.0</td>\n",
       "      <td>81.400000</td>\n",
       "      <td>2.713333</td>\n",
       "    </tr>\n",
       "    <tr>\n",
       "      <th>9</th>\n",
       "      <td>1960-07-26</td>\n",
       "      <td>86.0</td>\n",
       "      <td>67.9</td>\n",
       "      <td>89.5</td>\n",
       "      <td>65.0</td>\n",
       "      <td>22.1</td>\n",
       "      <td>81.400000</td>\n",
       "      <td>2.713333</td>\n",
       "    </tr>\n",
       "    <tr>\n",
       "      <th>10</th>\n",
       "      <td>1960-07-27</td>\n",
       "      <td>81.0</td>\n",
       "      <td>63.2</td>\n",
       "      <td>86.9</td>\n",
       "      <td>61.7</td>\n",
       "      <td>0.3</td>\n",
       "      <td>81.400000</td>\n",
       "      <td>2.713333</td>\n",
       "    </tr>\n",
       "    <tr>\n",
       "      <th>11</th>\n",
       "      <td>1960-07-28</td>\n",
       "      <td>84.2</td>\n",
       "      <td>63.3</td>\n",
       "      <td>88.4</td>\n",
       "      <td>65.9</td>\n",
       "      <td>0.0</td>\n",
       "      <td>81.400000</td>\n",
       "      <td>2.713333</td>\n",
       "    </tr>\n",
       "    <tr>\n",
       "      <th>12</th>\n",
       "      <td>1960-07-29</td>\n",
       "      <td>84.8</td>\n",
       "      <td>65.8</td>\n",
       "      <td>89.9</td>\n",
       "      <td>68.8</td>\n",
       "      <td>0.4</td>\n",
       "      <td>81.400000</td>\n",
       "      <td>2.713333</td>\n",
       "    </tr>\n",
       "    <tr>\n",
       "      <th>13</th>\n",
       "      <td>1960-07-30</td>\n",
       "      <td>82.9</td>\n",
       "      <td>69.2</td>\n",
       "      <td>87.2</td>\n",
       "      <td>65.1</td>\n",
       "      <td>3.9</td>\n",
       "      <td>81.400000</td>\n",
       "      <td>2.713333</td>\n",
       "    </tr>\n",
       "    <tr>\n",
       "      <th>14</th>\n",
       "      <td>1960-07-31</td>\n",
       "      <td>73.9</td>\n",
       "      <td>58.4</td>\n",
       "      <td>74.6</td>\n",
       "      <td>55.3</td>\n",
       "      <td>0.0</td>\n",
       "      <td>81.400000</td>\n",
       "      <td>2.713333</td>\n",
       "    </tr>\n",
       "    <tr>\n",
       "      <th>15</th>\n",
       "      <td>1961-07-17</td>\n",
       "      <td>80.1</td>\n",
       "      <td>62.2</td>\n",
       "      <td>82.4</td>\n",
       "      <td>62.2</td>\n",
       "      <td>1.2</td>\n",
       "      <td>83.026667</td>\n",
       "      <td>1.973333</td>\n",
       "    </tr>\n",
       "    <tr>\n",
       "      <th>16</th>\n",
       "      <td>1961-07-18</td>\n",
       "      <td>82.0</td>\n",
       "      <td>63.3</td>\n",
       "      <td>84.6</td>\n",
       "      <td>64.1</td>\n",
       "      <td>0.0</td>\n",
       "      <td>83.026667</td>\n",
       "      <td>1.973333</td>\n",
       "    </tr>\n",
       "    <tr>\n",
       "      <th>17</th>\n",
       "      <td>1961-07-19</td>\n",
       "      <td>81.3</td>\n",
       "      <td>68.9</td>\n",
       "      <td>86.7</td>\n",
       "      <td>72.6</td>\n",
       "      <td>7.0</td>\n",
       "      <td>83.026667</td>\n",
       "      <td>1.973333</td>\n",
       "    </tr>\n",
       "    <tr>\n",
       "      <th>18</th>\n",
       "      <td>1961-07-20</td>\n",
       "      <td>84.0</td>\n",
       "      <td>66.0</td>\n",
       "      <td>88.1</td>\n",
       "      <td>69.9</td>\n",
       "      <td>0.4</td>\n",
       "      <td>83.026667</td>\n",
       "      <td>1.973333</td>\n",
       "    </tr>\n",
       "    <tr>\n",
       "      <th>19</th>\n",
       "      <td>1961-07-21</td>\n",
       "      <td>84.2</td>\n",
       "      <td>64.8</td>\n",
       "      <td>88.7</td>\n",
       "      <td>67.9</td>\n",
       "      <td>0.3</td>\n",
       "      <td>83.026667</td>\n",
       "      <td>1.973333</td>\n",
       "    </tr>\n",
       "  </tbody>\n",
       "</table>\n",
       "</div>"
      ],
      "text/plain": [
       "          date  max_temp (°F)  min_temp  apparent_max_temp  apparent_min_temp  \\\n",
       "0   1960-07-17           80.9      61.1               84.6               61.5   \n",
       "1   1960-07-18           81.4      65.4               83.6               68.8   \n",
       "2   1960-07-19           80.7      61.8               83.3               64.3   \n",
       "3   1960-07-20           74.1      60.1               74.5               58.0   \n",
       "4   1960-07-21           79.6      60.2               80.5               59.2   \n",
       "5   1960-07-22           87.2      67.6               90.0               67.0   \n",
       "6   1960-07-23           82.7      67.0               85.4               68.7   \n",
       "7   1960-07-24           80.3      61.5               83.2               60.5   \n",
       "8   1960-07-25           81.3      64.2               84.0               65.7   \n",
       "9   1960-07-26           86.0      67.9               89.5               65.0   \n",
       "10  1960-07-27           81.0      63.2               86.9               61.7   \n",
       "11  1960-07-28           84.2      63.3               88.4               65.9   \n",
       "12  1960-07-29           84.8      65.8               89.9               68.8   \n",
       "13  1960-07-30           82.9      69.2               87.2               65.1   \n",
       "14  1960-07-31           73.9      58.4               74.6               55.3   \n",
       "15  1961-07-17           80.1      62.2               82.4               62.2   \n",
       "16  1961-07-18           82.0      63.3               84.6               64.1   \n",
       "17  1961-07-19           81.3      68.9               86.7               72.6   \n",
       "18  1961-07-20           84.0      66.0               88.1               69.9   \n",
       "19  1961-07-21           84.2      64.8               88.7               67.9   \n",
       "\n",
       "    daily_precipitation (mm)  avg_annual_temp (°F)  \\\n",
       "0                        0.5             81.400000   \n",
       "1                        6.1             81.400000   \n",
       "2                        2.3             81.400000   \n",
       "3                        0.0             81.400000   \n",
       "4                        0.0             81.400000   \n",
       "5                        1.7             81.400000   \n",
       "6                        3.4             81.400000   \n",
       "7                        0.0             81.400000   \n",
       "8                        0.0             81.400000   \n",
       "9                       22.1             81.400000   \n",
       "10                       0.3             81.400000   \n",
       "11                       0.0             81.400000   \n",
       "12                       0.4             81.400000   \n",
       "13                       3.9             81.400000   \n",
       "14                       0.0             81.400000   \n",
       "15                       1.2             83.026667   \n",
       "16                       0.0             83.026667   \n",
       "17                       7.0             83.026667   \n",
       "18                       0.4             83.026667   \n",
       "19                       0.3             83.026667   \n",
       "\n",
       "    avg_annual_precipitation (mm)  \n",
       "0                        2.713333  \n",
       "1                        2.713333  \n",
       "2                        2.713333  \n",
       "3                        2.713333  \n",
       "4                        2.713333  \n",
       "5                        2.713333  \n",
       "6                        2.713333  \n",
       "7                        2.713333  \n",
       "8                        2.713333  \n",
       "9                        2.713333  \n",
       "10                       2.713333  \n",
       "11                       2.713333  \n",
       "12                       2.713333  \n",
       "13                       2.713333  \n",
       "14                       2.713333  \n",
       "15                       1.973333  \n",
       "16                       1.973333  \n",
       "17                       1.973333  \n",
       "18                       1.973333  \n",
       "19                       1.973333  "
      ]
     },
     "execution_count": 9,
     "metadata": {},
     "output_type": "execute_result"
    }
   ],
   "source": [
    "df = get_data()\n",
    "\n",
    "df.head(20)"
   ]
  },
  {
   "cell_type": "markdown",
   "id": "242a871e",
   "metadata": {},
   "source": [
    "## Question 3: Visualizing The Data\n",
    "Plot the DataFrame using `matplotlib`/`seaborn` and write a short summary of your results."
   ]
  },
  {
   "cell_type": "code",
   "execution_count": 13,
   "id": "43e099dd",
   "metadata": {
    "ExecuteTime": {
     "end_time": "2023-02-28T00:38:07.414648Z",
     "start_time": "2023-02-28T00:38:07.408238Z"
    }
   },
   "outputs": [
    {
     "name": "stderr",
     "output_type": "stream",
     "text": [
      "/home/WSL_Bootcamp/GrandCircusLabs/.venv/lib/python3.10/site-packages/seaborn/_oldcore.py:1498: FutureWarning: is_categorical_dtype is deprecated and will be removed in a future version. Use isinstance(dtype, CategoricalDtype) instead\n",
      "  if pd.api.types.is_categorical_dtype(vector):\n",
      "/home/WSL_Bootcamp/GrandCircusLabs/.venv/lib/python3.10/site-packages/seaborn/_oldcore.py:1498: FutureWarning: is_categorical_dtype is deprecated and will be removed in a future version. Use isinstance(dtype, CategoricalDtype) instead\n",
      "  if pd.api.types.is_categorical_dtype(vector):\n",
      "/home/WSL_Bootcamp/GrandCircusLabs/.venv/lib/python3.10/site-packages/seaborn/_oldcore.py:1498: FutureWarning: is_categorical_dtype is deprecated and will be removed in a future version. Use isinstance(dtype, CategoricalDtype) instead\n",
      "  if pd.api.types.is_categorical_dtype(vector):\n"
     ]
    },
    {
     "data": {
      "image/png": "[encoded data removed]",
      "text/plain": [
       "<Figure size 1000x600 with 1 Axes>"
      ]
     },
     "metadata": {},
     "output_type": "display_data"
    }
   ],
   "source": [
    "df['date'] = pd.to_datetime(df['date'])\n",
    "\n",
    "df['Year'] = df['date'].dt.year\n",
    "\n",
    "average_yearly_temp = df.groupby('Year')['avg_annual_temp (°F)'].mean().reset_index()\n",
    "\n",
    "plt.figure(figsize=(10, 6))\n",
    "sns.barplot(x='Year', y='avg_annual_temp (°F)', data=average_yearly_temp, palette='viridis')\n",
    "plt.title('Average Yearly Temperature Trend')\n",
    "plt.xlabel('Year')\n",
    "plt.ylabel('Average Temperature (°F)')\n",
    "\n",
    "step = 5\n",
    "plt.xticks(range(0, len(average_yearly_temp), step), average_yearly_temp['Year'][::step], rotation=45)\n",
    "\n",
    "plt.show()"
   ]
  },
  {
   "cell_type": "code",
   "execution_count": 14,
   "id": "5597b0c9",
   "metadata": {},
   "outputs": [
    {
     "name": "stderr",
     "output_type": "stream",
     "text": [
      "/home/WSL_Bootcamp/GrandCircusLabs/.venv/lib/python3.10/site-packages/seaborn/_oldcore.py:1498: FutureWarning: is_categorical_dtype is deprecated and will be removed in a future version. Use isinstance(dtype, CategoricalDtype) instead\n",
      "  if pd.api.types.is_categorical_dtype(vector):\n",
      "/home/WSL_Bootcamp/GrandCircusLabs/.venv/lib/python3.10/site-packages/seaborn/_oldcore.py:1498: FutureWarning: is_categorical_dtype is deprecated and will be removed in a future version. Use isinstance(dtype, CategoricalDtype) instead\n",
      "  if pd.api.types.is_categorical_dtype(vector):\n",
      "/home/WSL_Bootcamp/GrandCircusLabs/.venv/lib/python3.10/site-packages/seaborn/_oldcore.py:1498: FutureWarning: is_categorical_dtype is deprecated and will be removed in a future version. Use isinstance(dtype, CategoricalDtype) instead\n",
      "  if pd.api.types.is_categorical_dtype(vector):\n"
     ]
    },
    {
     "data": {
      "image/png": "[encoded data removed]",
      "text/plain": [
       "<Figure size 1000x600 with 1 Axes>"
      ]
     },
     "metadata": {},
     "output_type": "display_data"
    }
   ],
   "source": [
    "average_yearly_precip = df.groupby('Year')['daily_precipitation (mm)'].mean().reset_index()\n",
    "\n",
    "plt.figure(figsize=(10, 6))\n",
    "sns.barplot(x='Year', y='daily_precipitation (mm)', data=average_yearly_precip, palette='viridis')\n",
    "plt.title('Average Yearly Precipitation Trend')\n",
    "plt.xlabel('Year')\n",
    "plt.ylabel('Average Yearly Precipitation (mm)')\n",
    "\n",
    "step = 5\n",
    "plt.xticks(range(0, len(average_yearly_precip), step), average_yearly_precip['Year'][::step], rotation=45)\n",
    "\n",
    "plt.show()\n"
   ]
  },
  {
   "cell_type": "markdown",
   "id": "eb6e5a2a",
   "metadata": {},
   "source": [
    "### Results Summary:"
   ]
  },
  {
   "cell_type": "markdown",
   "id": "c6639953",
   "metadata": {},
   "source": [
    "Using these visualizations there are a few conclusions that we can make. First of all, the average temperature has a relatively standard pattern that it follows, almost like a sine wave. We can also tell that the lowest average temperature on the weeks of July 15th - July 31st from 1960 to 2022 was 1991 and the highest was 1999. The precipitation graph is much more interesting however, as there is a much wider difference in results. We can see that 1969 had the greatest amount of precipitation while 1966 or 1998 had the lowest. There isnt much of a pattern or trend in this graph like there is with the temperature graph."
   ]
  }
 ],
 "metadata": {
  "kernelspec": {
   "display_name": ".venv",
   "language": "python",
   "name": "python3"
  },
  "language_info": {
   "codemirror_mode": {
    "name": "ipython",
    "version": 3
   },
   "file_extension": ".py",
   "mimetype": "text/x-python",
   "name": "python",
   "nbconvert_exporter": "python",
   "pygments_lexer": "ipython3",
   "version": "3.10.12"
  }
 },
 "nbformat": 4,
 "nbformat_minor": 5
}
