{
 "cells": [
  {
   "cell_type": "markdown",
   "metadata": {},
   "source": [
    "# Importing libraries and loading in data"
   ]
  },
  {
   "cell_type": "code",
   "execution_count": 25,
   "metadata": {},
   "outputs": [],
   "source": [
    "import pandas as pd\n",
    "from sqlalchemy import create_engine, text\n",
    "import datetime\n",
    "import psycopg2\n",
    "\n",
    "MTA = pd.read_csv(\"datasets/MTA_monthly_riders.csv\")\n",
    "CTA = pd.read_csv(\"datasets/CTA_daily_boarding.csv\")"
   ]
  },
  {
   "cell_type": "markdown",
   "metadata": {},
   "source": [
    "## Cleaning Data"
   ]
  },
  {
   "cell_type": "code",
   "execution_count": 26,
   "metadata": {},
   "outputs": [],
   "source": [
    "MTA = MTA.drop(186)\n",
    "MTA['Month'] = pd.to_datetime(MTA['Month'])\n",
    "MTA['city'] = 'New York City'"
   ]
  },
  {
   "cell_type": "code",
   "execution_count": 27,
   "metadata": {},
   "outputs": [],
   "source": [
    "CTA['Month'] = pd.to_datetime(CTA['service_date'])"
   ]
  },
  {
   "cell_type": "markdown",
   "metadata": {},
   "source": [
    "## Selecting necessary data and creating 2 new data frames"
   ]
  },
  {
   "cell_type": "code",
   "execution_count": 28,
   "metadata": {},
   "outputs": [],
   "source": [
    "CTA_refined = pd.melt(CTA, id_vars=['Month'], value_vars=['bus', 'rail_boardings'], var_name='ridership_type', value_name='ridership_count')\n",
    "CTA_refined.reset_index(drop=True, inplace=True)\n",
    "CTA_refined = CTA_refined.groupby([CTA_refined['Month'], 'ridership_type']).agg({'ridership_count': 'sum'}).reset_index()\n",
    "CTA_refined['city'] = 'Chicago'\n",
    "CTA_refined['ridership_type'] = CTA_refined['ridership_type'].replace('rail_boardings', 'metro')"
   ]
  },
  {
   "cell_type": "code",
   "execution_count": 29,
   "metadata": {},
   "outputs": [],
   "source": [
    "MTA_refined = MTA[['Month', 'Bus Ridership', 'Subway Ridership', 'city']]\n",
    "MTA_refined = pd.melt(MTA_refined, id_vars=['Month', 'city'], var_name='ridership_type', value_name='ridership_count')\n",
    "MTA_refined = MTA_refined.sort_values('Month')\n",
    "MTA_refined['ridership_type'] = MTA_refined['ridership_type'].replace('Subway Ridership', 'metro')\n",
    "MTA_refined['ridership_type'] = MTA_refined['ridership_type'].replace('Bus Ridership', 'bus')\n",
    "MTA_refined['ridership_count'] = MTA_refined['ridership_count'].astype(int)"
   ]
  },
  {
   "cell_type": "code",
   "execution_count": 30,
   "metadata": {},
   "outputs": [],
   "source": [
    "monthly_totals = pd.concat([MTA_refined, CTA_refined], ignore_index=True)\n",
    "monthly_totals['Month'] = monthly_totals['Month'].dt.strftime('%Y-%m')"
   ]
  },
  {
   "cell_type": "markdown",
   "metadata": {},
   "source": [
    "## Creating engine and connecting"
   ]
  },
  {
   "cell_type": "code",
   "execution_count": 31,
   "metadata": {},
   "outputs": [],
   "source": [
    "host = \"localhost\"\n",
    "database = \"transportation\"\n",
    "user = \"bonks\"\n",
    "password = \"bonks\"\n",
    "conn = psycopg2.connect(host=host, database=database, user=user, password=password)"
   ]
  },
  {
   "cell_type": "code",
   "execution_count": 32,
   "metadata": {},
   "outputs": [],
   "source": [
    "engine = create_engine(f'postgresql+psycopg2://{user}:{password}@{host}/{database}')"
   ]
  },
  {
   "cell_type": "markdown",
   "metadata": {},
   "source": [
    "## Putting data into SQL server"
   ]
  },
  {
   "cell_type": "code",
   "execution_count": 33,
   "metadata": {},
   "outputs": [
    {
     "data": {
      "text/plain": [
       "804"
      ]
     },
     "execution_count": 33,
     "metadata": {},
     "output_type": "execute_result"
    }
   ],
   "source": [
    "monthly_totals.to_sql('monthly_totals', engine, if_exists='replace', index=False)"
   ]
  },
  {
   "cell_type": "code",
   "execution_count": 34,
   "metadata": {},
   "outputs": [],
   "source": [
    "conn.close()"
   ]
  },
  {
   "cell_type": "markdown",
   "metadata": {},
   "source": [
    "## SQL Commands:\n",
    "``ALTER TABLE monthly_totals``\n",
    "``ALTER COLUMN \"Month\" TYPE date;``\n",
    "* Makes the date formatting prettier\n",
    "\n",
    "``CREATE TABLE bus_monthly_totals AS``\n",
    "``SELECT * FROM monthly_totals WHERE ridership_type = 'bus';``\n",
    "<br> <br>\n",
    "``CREATE TABLE metro_monthly_totals AS``\n",
    "``SELECT * FROM monthly_totals WHERE ridership_type = 'metro';``\n",
    "* Creates the new tables\n",
    "    \n",
    "\n",
    "``ALTER TABLE bus_monthly_totals``\n",
    "``DROP COLUMN ridership_type;``\n",
    "<br> <br>\n",
    "``ALTER TABLE metro_monthly_totals``\n",
    "``DROP COLUMN ridership_type;``\n",
    "* Drops `ridership_type` column as it is redundant"
   ]
  }
 ],
 "metadata": {
  "kernelspec": {
   "display_name": ".venv",
   "language": "python",
   "name": "python3"
  },
  "language_info": {
   "codemirror_mode": {
    "name": "ipython",
    "version": 3
   },
   "file_extension": ".py",
   "mimetype": "text/x-python",
   "name": "python",
   "nbconvert_exporter": "python",
   "pygments_lexer": "ipython3",
   "version": "3.10.12"
  }
 },
 "nbformat": 4,
 "nbformat_minor": 2
}
