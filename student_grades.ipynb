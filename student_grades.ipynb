{
 "cells": [
  {
   "cell_type": "code",
   "execution_count": 48,
   "metadata": {},
   "outputs": [],
   "source": [
    "import numpy as np\n",
    "import pandas as pd\n",
    "import statistics"
   ]
  },
  {
   "cell_type": "code",
   "execution_count": 49,
   "metadata": {},
   "outputs": [
    {
     "name": "stdout",
     "output_type": "stream",
     "text": [
      "Adam's grade average is 12.375\n",
      "Anna's grade average is 10.375\n",
      "James's grade average is 12.375\n",
      "Corey's grade average is 11.875\n",
      "Alisha's grade average is 11.5\n",
      "Jodie's grade average is 13.125\n",
      "John's grade average is 13.0\n",
      "The median math grade between all students is 11.0.\n",
      "The most commonly occuring history grade between all students is 14.0.\n"
     ]
    }
   ],
   "source": [
    "# Question 1:\n",
    "students = ['Adam', 'Anna', 'James', 'Corey', 'Alisha', 'Jodie', 'John']\n",
    "grades = np.array([[11, 9, 16, 13.5],\n",
    "                   [12, 11, 8.5, 10],\n",
    "                   [11, 18, 11.5, 9],\n",
    "                   [7, 15.5, 11, 14],\n",
    "                   [9.5, 12, 10.5, 14],\n",
    "                   [15, 18.5, 7, 12],\n",
    "                   [18, 15.5, 11, 7.5]])\n",
    "\n",
    "# Part 1\n",
    "for i in range(len(students)):\n",
    "    mean = np.mean(grades[i])\n",
    "    print(f\"{students[i]}'s grade average is {mean}\")\n",
    "\n",
    "# Part 2\n",
    "math_grades = []\n",
    "for i in range(len(students)):\n",
    "    math_grades.append(grades[i][0])\n",
    "median = np.median(math_grades)\n",
    "print(f\"The median math grade between all students is {median}.\")\n",
    "\n",
    "# Part 3\n",
    "history_grades = []\n",
    "for i in range(len(students)):\n",
    "    history_grades.append(grades[i][3])\n",
    "mode = statistics.mode(history_grades)\n",
    "print(f\"The most commonly occuring history grade between all students is {mode}.\")\n",
    "    "
   ]
  },
  {
   "cell_type": "code",
   "execution_count": 50,
   "metadata": {},
   "outputs": [
    {
     "data": {
      "text/html": [
       "<div>\n",
       "<style scoped>\n",
       "    .dataframe tbody tr th:only-of-type {\n",
       "        vertical-align: middle;\n",
       "    }\n",
       "\n",
       "    .dataframe tbody tr th {\n",
       "        vertical-align: top;\n",
       "    }\n",
       "\n",
       "    .dataframe thead th {\n",
       "        text-align: right;\n",
       "    }\n",
       "</style>\n",
       "<table border=\"1\" class=\"dataframe\">\n",
       "  <thead>\n",
       "    <tr style=\"text-align: right;\">\n",
       "      <th></th>\n",
       "      <th>Math</th>\n",
       "      <th>Science</th>\n",
       "      <th>Reading</th>\n",
       "      <th>History</th>\n",
       "    </tr>\n",
       "  </thead>\n",
       "  <tbody>\n",
       "    <tr>\n",
       "      <th>Math</th>\n",
       "      <td>1.000000</td>\n",
       "      <td>0.269494</td>\n",
       "      <td>-0.268562</td>\n",
       "      <td>-0.718358</td>\n",
       "    </tr>\n",
       "    <tr>\n",
       "      <th>Science</th>\n",
       "      <td>0.269494</td>\n",
       "      <td>1.000000</td>\n",
       "      <td>-0.527606</td>\n",
       "      <td>-0.358688</td>\n",
       "    </tr>\n",
       "    <tr>\n",
       "      <th>Reading</th>\n",
       "      <td>-0.268562</td>\n",
       "      <td>-0.527606</td>\n",
       "      <td>1.000000</td>\n",
       "      <td>0.206794</td>\n",
       "    </tr>\n",
       "    <tr>\n",
       "      <th>History</th>\n",
       "      <td>-0.718358</td>\n",
       "      <td>-0.358688</td>\n",
       "      <td>0.206794</td>\n",
       "      <td>1.000000</td>\n",
       "    </tr>\n",
       "  </tbody>\n",
       "</table>\n",
       "</div>"
      ],
      "text/plain": [
       "             Math   Science   Reading   History\n",
       "Math     1.000000  0.269494 -0.268562 -0.718358\n",
       "Science  0.269494  1.000000 -0.527606 -0.358688\n",
       "Reading -0.268562 -0.527606  1.000000  0.206794\n",
       "History -0.718358 -0.358688  0.206794  1.000000"
      ]
     },
     "execution_count": 50,
     "metadata": {},
     "output_type": "execute_result"
    }
   ],
   "source": [
    "# Question 2:\n",
    "math, science, reading, history = [], [], [], []\n",
    "for i in range(len(students)):\n",
    "    math.append(grades[i][0])\n",
    "    science.append(grades[i][1])\n",
    "    reading.append(grades[i][2])\n",
    "    history.append(grades[i][3])\n",
    "df = pd.DataFrame({'Math': math,\n",
    "                   'Science': science,\n",
    "                   'Reading': reading,\n",
    "                   'History': history})\n",
    "df.corr()\n",
    "\n",
    "# Math and History seem to have the strongest (albeit negative) correlation"
   ]
  },
  {
   "cell_type": "code",
   "execution_count": 51,
   "metadata": {},
   "outputs": [
    {
     "name": "stdout",
     "output_type": "stream",
     "text": [
      " mean: 59.47826086956522\n",
      " median: 60.0\n",
      " mode: 60\n",
      " minimum: 5\n",
      " maximum: 99\n",
      " range: 94\n",
      " variance: 664.1625708884687\n",
      " standard deviation: 25.771351747404882\n",
      "\n"
     ]
    }
   ],
   "source": [
    "# Question 3:\n",
    "math_exam = [24, 5, 15, 60, 54, 82, 99, 80, 70, 98, 93, 60, 33, 22, 65, 61, 51, 58, 83, 86, 42, 67, 60]\n",
    "def desc_stats(grade_list):\n",
    "    print(f\" mean: {np.mean(grade_list)}\\n\",\n",
    "          f\"median: {np.median(grade_list)}\\n\",\n",
    "          f\"mode: {statistics.mode(grade_list)}\\n\",\n",
    "          f\"minimum: {np.min(grade_list)}\\n\",\n",
    "          f\"maximum: {np.max(grade_list)}\\n\",\n",
    "          f\"range: {np.ptp(grade_list)}\\n\",\n",
    "          f\"variance: {np.var(grade_list)}\\n\",\n",
    "          f\"standard deviation: {np.std(grade_list)}\\n\",)\n",
    "\n",
    "desc_stats(math_exam)"
   ]
  },
  {
   "cell_type": "markdown",
   "metadata": {},
   "source": [
    "Question 4:"
   ]
  },
  {
   "cell_type": "code",
   "execution_count": 61,
   "metadata": {},
   "outputs": [
    {
     "name": "stdout",
     "output_type": "stream",
     "text": [
      "96.66666666666667\n",
      "0.6157169862273832\n"
     ]
    }
   ],
   "source": [
    "curved_grades = []\n",
    "for i in math_exam:\n",
    "    curved_grades.append(i / 96.6)\n",
    "sorted_grades = np.sort(math_exam)\n",
    "print((np.sum(sorted_grades[-3:]) / 3))\n",
    "print(np.mean(curved_grades))"
   ]
  },
  {
   "cell_type": "markdown",
   "metadata": {},
   "source": [
    "If I was the professor of this class I would curve the grade. How I would curve the grade would be how my history teacher used to curve grades. He took the average of the top 3 scores and used those as the 100% mark. So instead of 100 being 100, 96.6 would be the 100% mark. Although this wouldn't help much, it gives them a bit of a boost and that is all students need sometimes. Specifically, it would save 1 person (58) from failing and raise the class average from failing with 59.48% to passing with 61.57%. In summary, there is no downside to curving grades and it would help students a small amount."
   ]
  }
 ],
 "metadata": {
  "kernelspec": {
   "display_name": "UseThisOne",
   "language": "python",
   "name": "python3"
  },
  "language_info": {
   "codemirror_mode": {
    "name": "ipython",
    "version": 3
   },
   "file_extension": ".py",
   "mimetype": "text/x-python",
   "name": "python",
   "nbconvert_exporter": "python",
   "pygments_lexer": "ipython3",
   "version": "3.10.11"
  },
  "orig_nbformat": 4
 },
 "nbformat": 4,
 "nbformat_minor": 2
}
